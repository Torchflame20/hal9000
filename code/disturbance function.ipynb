{
 "cells": [
  {
   "cell_type": "code",
   "execution_count": 90,
   "metadata": {},
   "outputs": [],
   "source": [
    "import numpy as np\n",
    "import matplotlib.pyplot as plt\n",
    "%matplotlib inline"
   ]
  },
  {
   "cell_type": "code",
   "execution_count": 91,
   "metadata": {},
   "outputs": [
    {
     "name": "stdout",
     "output_type": "stream",
     "text": [
      "[0.    0.    0.    0.    0.    0.    0.125 0.25  0.25  0.375 0.5   0.5\n",
      " 0.5   0.625 0.625 0.625 0.625 0.75  0.75  0.75  0.75  0.75  0.625 0.625\n",
      " 0.625 0.5   0.375 0.375 0.375 0.5   0.5   0.625 0.75  0.75  0.875 0.875\n",
      " 0.875 0.875 1.    1.    1.    0.875 0.875 0.875 0.875 0.75  0.75  0.625\n",
      " 0.5   0.5   0.5   0.375 0.375 0.25  0.25  0.25  0.25  0.375 0.375 0.375\n",
      " 0.5   0.5   0.5   0.5   0.5   0.5   0.375 0.375 0.375 0.5   0.5   0.5\n",
      " 0.5   0.5   0.5   0.375 0.375 0.375 0.375 0.375 0.375 0.25  0.25  0.125\n",
      " 0.125 0.125 0.25  0.375 0.375 0.5   0.5   0.625 0.625 0.625 0.625 0.5\n",
      " 0.5   0.375 0.5   0.375 0.25 ]\n"
     ]
    },
    {
     "data": {
      "image/png": "[encoded data removed]",
      "text/plain": [
       "<Figure size 432x288 with 1 Axes>"
      ]
     },
     "metadata": {
      "needs_background": "light"
     },
     "output_type": "display_data"
    }
   ],
   "source": [
    "\n",
    "# Python code for 1-D random walk. \n",
    "import random \n",
    "import numpy as np \n",
    "import matplotlib.pyplot as plt \n",
    "  \n",
    "# Probability to move up or down \n",
    "prob = [0.2, 0.8]   \n",
    "  \n",
    "# statically defining the starting position \n",
    "start = 0  \n",
    "positions = [start] \n",
    "  \n",
    "# creating the random points \n",
    "rr = np.random.default_rng(123).random(100) \n",
    "downp = rr < prob[0] \n",
    "upp = rr > prob[1] \n",
    "  \n",
    "  \n",
    "for idownp, iupp in zip(downp, upp): \n",
    "    down = idownp and positions[-1] > 0\n",
    "    up = iupp and positions[-1] < 100\n",
    "    positions.append(positions[-1] - down + up) \n",
    "    \n",
    "n_pos = positions/max(positions)\n",
    "print(n_pos)\n",
    "# plotting down the graph of the random walk in 1D \n",
    "plt.plot(n_pos)\n",
    "plt.grid()\n",
    "plt.show() \n"
   ]
  },
  {
   "cell_type": "code",
   "execution_count": null,
   "metadata": {},
   "outputs": [],
   "source": []
  },
  {
   "cell_type": "code",
   "execution_count": null,
   "metadata": {},
   "outputs": [],
   "source": []
  }
 ],
 "metadata": {
  "kernelspec": {
   "display_name": "Python 3",
   "language": "python",
   "name": "python3"
  },
  "language_info": {
   "codemirror_mode": {
    "name": "ipython",
    "version": 3
   },
   "file_extension": ".py",
   "mimetype": "text/x-python",
   "name": "python",
   "nbconvert_exporter": "python",
   "pygments_lexer": "ipython3",
   "version": "3.7.6"
  }
 },
 "nbformat": 4,
 "nbformat_minor": 4
}
